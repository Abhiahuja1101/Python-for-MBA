{
 "cells": [
  {
   "cell_type": "code",
   "execution_count": 1,
   "id": "c9e1c91f",
   "metadata": {},
   "outputs": [
    {
     "name": "stdout",
     "output_type": "stream",
     "text": [
      "enter the salary: 4000000\n",
      "you have to pay tax bro \n",
      "tax is  1012500.0\n"
     ]
    }
   ],
   "source": [
    "#Old Tax Regime\n",
    "x=int(input(\"enter the salary: \"))\n",
    "if x<=250000:\n",
    "    print(\"you are tax free bro \")\n",
    "if x>=250000 and x<500000:\n",
    "    print(\"you have to pay tax bro \")\n",
    "    tax =(x-250000)*.05 #tax rate is 5%\n",
    "    print(\"tax is \",tax)\n",
    "if x>=500000 and x<1000000:\n",
    "    print(\"you have to pay tax bro \")\n",
    "    tax =(x-500000)*.2 + 250000*.05 #tax rate is 20%\n",
    "    print(\"tax is \",tax)\n",
    "if x>=1000000:\n",
    "    print(\"you have to pay tax bro \")\n",
    "    tax =500000*.2 + 250000*.05 +(x-1000000)*.3 #tax rate is 30%\n",
    "    print(\"tax is \",tax)"
   ]
  },
  {
   "cell_type": "code",
   "execution_count": null,
   "id": "0912fac1",
   "metadata": {},
   "outputs": [],
   "source": [
    "#New Tax Regime\n",
    "x=int(input(\"enter the salary: \"))\n",
    "if x<300000:\n",
    "    print(\"you are tax free bro \")\n",
    "if x>300000 and x<600000:\n",
    "    print(\"you have to pay tax bro \")\n",
    "    tax =(x-300000)*.05 #tax rate is 5%\n",
    "    print(\"tax is \",tax)\n",
    "if x>=600000 and x<900000:\n",
    "    print(\"you have to pay tax bro \")\n",
    "    tax =(x-600000)*.1 + 300000*.05  #tax rate is 10%\n",
    "    print(\"tax is \",tax)\n",
    "if x>=900000 and x<1200000:\n",
    "    print(\"you have to pay tax bro \")\n",
    "    tax =(x-900000)*.15 + 300000*.1 + 300000*.05 #tax rate is 15%\n",
    "    print(\"tax is \",tax)\n",
    "if x>=1200000 and x<1500000:\n",
    "    print(\"you have to pay tax bro \")\n",
    "    tax =(x-1200000)*.20 + 300000*.1 + 300000*.05 + 300000*.15 #tax rate is 20%\n",
    "    print(\"tax is \",tax)\n",
    "if x>=1500000:\n",
    "    print(\"you have to pay bhot jyada  tax bro \")\n",
    "    tax =(x-1500000)*.20 + 300000*.1 + 300000*.05 + 300000*.15 +300000*.2 #tax rate is 20%\n",
    "    print(\"tax is \",tax)"
   ]
  }
 ],
 "metadata": {
  "kernelspec": {
   "display_name": "Python 3 (ipykernel)",
   "language": "python",
   "name": "python3"
  },
  "language_info": {
   "codemirror_mode": {
    "name": "ipython",
    "version": 3
   },
   "file_extension": ".py",
   "mimetype": "text/x-python",
   "name": "python",
   "nbconvert_exporter": "python",
   "pygments_lexer": "ipython3",
   "version": "3.9.13"
  }
 },
 "nbformat": 4,
 "nbformat_minor": 5
}
